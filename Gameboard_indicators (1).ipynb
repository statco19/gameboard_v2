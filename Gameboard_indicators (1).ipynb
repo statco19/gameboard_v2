{
 "cells": [
  {
   "cell_type": "code",
   "execution_count": 1,
   "metadata": {},
   "outputs": [
    {
     "data": {
      "text/html": [
       "\n",
       "        <div>\n",
       "            <p><b>SparkContext</b></p>\n",
       "\n",
       "            <p><a href=\"http://ip-172-31-3-149.us-east-2.compute.internal:4041\">Spark UI</a></p>\n",
       "\n",
       "            <dl>\n",
       "              <dt>Version</dt>\n",
       "                <dd><code>v2.4.8</code></dd>\n",
       "              <dt>Master</dt>\n",
       "                <dd><code>local[*]</code></dd>\n",
       "              <dt>AppName</dt>\n",
       "                <dd><code>PySparkShell</code></dd>\n",
       "            </dl>\n",
       "        </div>\n",
       "        "
      ],
      "text/plain": [
       "<SparkContext master=local[*] appName=PySparkShell>"
      ]
     },
     "execution_count": 1,
     "metadata": {},
     "output_type": "execute_result"
    }
   ],
   "source": [
    "sc"
   ]
  },
  {
   "cell_type": "code",
   "execution_count": 2,
   "metadata": {},
   "outputs": [],
   "source": [
    "from pyspark.sql import SparkSession\n",
    "from pyspark import SQLContext, SparkContext, SparkConf\n",
    "from pyspark.sql import Row\n",
    "from pyspark.sql.functions import explode\n",
    "from pyspark.sql.functions import *\n",
    "from pyspark.sql.types import *\n",
    "from pyspark.sql.functions import lit\n",
    "from pyspark.sql import Row\n",
    "from pyspark.sql.functions import col\n",
    "from pyspark.sql import functions as F"
   ]
  },
  {
   "cell_type": "code",
   "execution_count": 3,
   "metadata": {},
   "outputs": [
    {
     "name": "stderr",
     "output_type": "stream",
     "text": [
      "/home/ubuntu/spark/python/pyspark/sql/session.py:366: UserWarning: Using RDD of dict to inferSchema is deprecated. Use pyspark.sql.Row instead\n",
      "  warnings.warn(\"Using RDD of dict to inferSchema is deprecated. \"\n"
     ]
    }
   ],
   "source": [
    "import json\n",
    "\n",
    "with open(\"test_json.json\",\"r\") as test_json:\n",
    "    data = json.load(test_json)\n",
    "    \n",
    "teams = data[\"participants\"]\n",
    "rdd = sc.parallelize(list(teams.items()))\n",
    "pre = rdd.map(lambda x: (dict([x])))\\\n",
    "    .map(lambda x: list(x.values())[0])\n",
    "\n",
    "res = pre.map(lambda x: x[0])\n",
    "df = res.toDF()\n",
    "for i in range(1, 10):\n",
    "    tmp = pre.map(lambda x: x[i])\n",
    "    tmp = tmp.toDF()\n",
    "    df = df.union(tmp)"
   ]
  },
  {
   "cell_type": "code",
   "execution_count": 4,
   "metadata": {},
   "outputs": [
    {
     "data": {
      "text/plain": [
       "1000"
      ]
     },
     "execution_count": 4,
     "metadata": {},
     "output_type": "execute_result"
    }
   ],
   "source": [
    "df.count()"
   ]
  },
  {
   "cell_type": "code",
   "execution_count": 6,
   "metadata": {},
   "outputs": [
    {
     "data": {
      "text/plain": [
       "['assists',\n",
       " 'baronKills',\n",
       " 'bountyLevel',\n",
       " 'champExperience',\n",
       " 'champLevel',\n",
       " 'championId',\n",
       " 'championName',\n",
       " 'championTransform',\n",
       " 'consumablesPurchased',\n",
       " 'damageDealtToBuildings',\n",
       " 'damageDealtToObjectives',\n",
       " 'damageDealtToTurrets',\n",
       " 'damageSelfMitigated',\n",
       " 'deaths',\n",
       " 'detectorWardsPlaced',\n",
       " 'doubleKills',\n",
       " 'dragonKills',\n",
       " 'firstBloodAssist',\n",
       " 'firstBloodKill',\n",
       " 'firstTowerAssist',\n",
       " 'firstTowerKill',\n",
       " 'gameEndedInEarlySurrender',\n",
       " 'gameEndedInSurrender',\n",
       " 'goldEarned',\n",
       " 'goldSpent',\n",
       " 'individualPosition',\n",
       " 'inhibitorKills',\n",
       " 'inhibitorTakedowns',\n",
       " 'inhibitorsLost',\n",
       " 'item0',\n",
       " 'item1',\n",
       " 'item2',\n",
       " 'item3',\n",
       " 'item4',\n",
       " 'item5',\n",
       " 'item6',\n",
       " 'itemsPurchased',\n",
       " 'killingSprees',\n",
       " 'kills',\n",
       " 'lane',\n",
       " 'largestCriticalStrike',\n",
       " 'largestKillingSpree',\n",
       " 'largestMultiKill',\n",
       " 'longestTimeSpentLiving',\n",
       " 'magicDamageDealt',\n",
       " 'magicDamageDealtToChampions',\n",
       " 'magicDamageTaken',\n",
       " 'neutralMinionsKilled',\n",
       " 'nexusKills',\n",
       " 'nexusLost',\n",
       " 'nexusTakedowns',\n",
       " 'objectivesStolen',\n",
       " 'objectivesStolenAssists',\n",
       " 'participantId',\n",
       " 'pentaKills',\n",
       " 'perks',\n",
       " 'physicalDamageDealt',\n",
       " 'physicalDamageDealtToChampions',\n",
       " 'physicalDamageTaken',\n",
       " 'profileIcon',\n",
       " 'puuid',\n",
       " 'quadraKills',\n",
       " 'riotIdName',\n",
       " 'riotIdTagline',\n",
       " 'role',\n",
       " 'sightWardsBoughtInGame',\n",
       " 'spell1Casts',\n",
       " 'spell2Casts',\n",
       " 'spell3Casts',\n",
       " 'spell4Casts',\n",
       " 'summoner1Casts',\n",
       " 'summoner1Id',\n",
       " 'summoner2Casts',\n",
       " 'summoner2Id',\n",
       " 'summonerId',\n",
       " 'summonerLevel',\n",
       " 'summonerName',\n",
       " 'teamEarlySurrendered',\n",
       " 'teamId',\n",
       " 'teamPosition',\n",
       " 'timeCCingOthers',\n",
       " 'timePlayed',\n",
       " 'totalDamageDealt',\n",
       " 'totalDamageDealtToChampions',\n",
       " 'totalDamageShieldedOnTeammates',\n",
       " 'totalDamageTaken',\n",
       " 'totalHeal',\n",
       " 'totalHealsOnTeammates',\n",
       " 'totalMinionsKilled',\n",
       " 'totalTimeCCDealt',\n",
       " 'totalTimeSpentDead',\n",
       " 'totalUnitsHealed',\n",
       " 'tripleKills',\n",
       " 'trueDamageDealt',\n",
       " 'trueDamageDealtToChampions',\n",
       " 'trueDamageTaken',\n",
       " 'turretKills',\n",
       " 'turretTakedowns',\n",
       " 'turretsLost',\n",
       " 'unrealKills',\n",
       " 'visionScore',\n",
       " 'visionWardsBoughtInGame',\n",
       " 'wardsKilled',\n",
       " 'wardsPlaced',\n",
       " 'win']"
      ]
     },
     "execution_count": 6,
     "metadata": {},
     "output_type": "execute_result"
    }
   ],
   "source": [
    "df.columns"
   ]
  },
  {
   "cell_type": "markdown",
   "metadata": {},
   "source": [
    "# 챔피언 별 지표"
   ]
  },
  {
   "cell_type": "markdown",
   "metadata": {},
   "source": [
    "'totalDamageDealt','championName', 'damageDealtToBuildings', 'kills','goldEarned','visionScore',                                   'pentaKills','objectivesStolen','totalMinionsKilled'"
   ]
  },
  {
   "cell_type": "code",
   "execution_count": 117,
   "metadata": {},
   "outputs": [],
   "source": [
    "# 딜량\n",
    "DF1 = df.groupBy('championName').agg(F.mean('totalDamageDealt').alias('avg_totalDamageDealt'))\n",
    "# 포탑에 가한 딜량\n",
    "DF2 = df.groupBy('championName').agg(F.mean('damageDealtToBuildings').alias('avg_'))\n",
    "# 킬\n",
    "DF3 = df.groupBy('championName').agg(F.mean('kills').alias('avg_kills'))\n",
    "# 획득 골드\n",
    "DF4 = df.groupBy('championName').agg(F.mean('goldEarned').alias('avg_goldEarned'))\n",
    "# 시야 점수\n",
    "DF5 = df.groupBy('championName').agg(F.mean('visionScore').alias('avg_visionScore'))\n",
    "# 펜타킬 수\n",
    "DF6 = df.groupBy('championName').agg(F.mean('pentaKills').alias('avg_pentaKills'))\n",
    "# 오브젝트 스틸 개수\n",
    "DF7 = df.groupBy('championName').agg(F.mean('objectivesStolen').alias('avg_objectivesStolen'))\n",
    "# cs개수\n",
    "DF8 = df.groupBy('championName').agg(F.mean('totalMinionsKilled').alias('avg_totalMinionsKilled'))"
   ]
  },
  {
   "cell_type": "code",
   "execution_count": 118,
   "metadata": {},
   "outputs": [
    {
     "name": "stdout",
     "output_type": "stream",
     "text": [
      "+------------+--------------------+\n",
      "|championName|avg_totalDamageDealt|\n",
      "+------------+--------------------+\n",
      "|      RekSai|  124323.83333333333|\n",
      "|   Gangplank|            130611.6|\n",
      "|        Rell|            18464.75|\n",
      "|        Bard|             14507.0|\n",
      "|       Poppy|   95373.57142857143|\n",
      "|    Katarina|             91085.0|\n",
      "|       Elise|             66895.0|\n",
      "|      Lucian|            168276.2|\n",
      "|    Nautilus|   23632.69230769231|\n",
      "|          Vi|             82449.0|\n",
      "| MissFortune|             81338.5|\n",
      "|        Azir|            142441.0|\n",
      "|     Camille|   95929.33333333333|\n",
      "|       Jayce|  143851.37037037036|\n",
      "|        Pyke|  22270.909090909092|\n",
      "|      Xerath|            123394.0|\n",
      "|         Lux|            38045.65|\n",
      "|         Vex|   94574.27272727272|\n",
      "|       Xayah|            112340.0|\n",
      "|       Ziggs|  123036.16666666667|\n",
      "+------------+--------------------+\n",
      "only showing top 20 rows\n",
      "\n"
     ]
    }
   ],
   "source": [
    "DF1.show()"
   ]
  },
  {
   "cell_type": "code",
   "execution_count": 121,
   "metadata": {},
   "outputs": [],
   "source": [
    "for i in range(1, 9):\n",
    "    globals()['resJson'+str(i)] = globals()['DF'+str(i)].toJSON()"
   ]
  },
  {
   "cell_type": "code",
   "execution_count": null,
   "metadata": {},
   "outputs": [],
   "source": []
  }
 ],
 "metadata": {
  "kernelspec": {
   "display_name": "Python 3",
   "language": "python",
   "name": "python3"
  },
  "language_info": {
   "codemirror_mode": {
    "name": "ipython",
    "version": 3
   },
   "file_extension": ".py",
   "mimetype": "text/x-python",
   "name": "python",
   "nbconvert_exporter": "python",
   "pygments_lexer": "ipython3",
   "version": "3.7.4"
  }
 },
 "nbformat": 4,
 "nbformat_minor": 2
}
